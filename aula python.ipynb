{
 "cells": [
  {
   "cell_type": "code",
   "execution_count": 20,
   "metadata": {},
   "outputs": [
    {
     "name": "stdout",
     "output_type": "stream",
     "text": [
      "A velocidade do objeto é 35.714285714285715 Km/h\n"
     ]
    }
   ],
   "source": [
    "s = float(input(\"Digite a distância percorrida pelo objeto,em Km:\"))\n",
    "t = float(input(\"Digite a distância transcorrida, em h:\"))\n",
    "if t > 0:\n",
    "  v= s/t\n",
    "  print(\"A velocidade do objeto é\", v,\"Km/h\")\n",
    "else:\n",
    "    print(\"Erro, o valor de tempo deve ser positivo!\")\n",
    "    print(\"Tente Novamente.\")"
   ]
  },
  {
   "cell_type": "code",
   "execution_count": 4,
   "metadata": {},
   "outputs": [
    {
     "name": "stdout",
     "output_type": "stream",
     "text": [
      "Você é menor de idade, insira uma idade valida!\n"
     ]
    }
   ],
   "source": [
    "a = float(input(\"Digite sua idade:\"))\n",
    "if a >= 18:\n",
    "  print(\"Você é maior de idade\")\n",
    "else:\n",
    "  print(\"Você é menor de idade, insira uma idade valida!\")\n",
    "  \n",
    "  def VerficiarMaioridade():\n",
    "    if a >= 18:\n",
    "      print(\"Você é maior de idade\")\n",
    "    else:\n",
    "      print(\"Você é menor de idade, insira uma idade valida!\")\n",
    "      return"
   ]
  },
  {
   "cell_type": "code",
   "execution_count": 11,
   "metadata": {},
   "outputs": [
    {
     "name": "stdout",
     "output_type": "stream",
     "text": [
      "O valor digitado se encontra entre 0 e 10\n"
     ]
    }
   ],
   "source": [
    "x = float(input(\"Digite o valor de X:\"))\n",
    "\n",
    "if x >= 0 and x <= 10:\n",
    "    print(\"O valor digitado se encontra entre 0 e 10\")\n",
    "    \n",
    "elif x > 10 and x <= 20:\n",
    "    print(\"O valor digitado se encontra entre 10 e 20\")\n",
    "    \n",
    "elif x > 20 and x <= 30:\n",
    "    print(\"O valor digitado se encontra entre 20 e 30\")\n",
    "    \n",
    "elif x > 30 and x<= 40:\n",
    "    print( \"O valor digitado se encontra entre 30 e 40\")\n",
    "    \n",
    "elif x > 40 and x <= 50:\n",
    "    print(\"O valor digitado se encontra entre 40 e 50\")\n",
    "    \n",
    "else:\n",
    "    print(\" O valor de x digitado é negativo ou maior que 50\")"
   ]
  },
  {
   "cell_type": "code",
   "execution_count": 24,
   "metadata": {},
   "outputs": [
    {
     "name": "stdout",
     "output_type": "stream",
     "text": [
      "O IMC é 28.685144680698485 Kg/m²\n",
      "Sobre Peso!\n",
      "\n",
      "Até Logo!\n"
     ]
    }
   ],
   "source": [
    "resp = \"Sim\"\n",
    "while resp == \"Sim\":\n",
    "    peso = float(input(\"\\nDigite o peso, em KG:\"))\n",
    "    altura = float(input(\"Digite a estatura da pessoa, em m:\"))\n",
    "    if (peso > 0 and altura > 0.10 and altura < 2.6):\n",
    "        IMC = peso/altura**2\n",
    "        print(\"O IMC é\", IMC, \"Kg/m²\")\n",
    "    else:\n",
    "        print(\"Erro nos dados.Por favor, verifique os valores digitados!\")\n",
    "    resp = input(\"\\nDeseja continuar (Sim ou Não)?\")\n",
    "\n",
    "    if(IMC < 18.5):\n",
    "        print(\"Abaixo do peso!\")\n",
    "    elif(IMC >=18.5 and IMC <= 24.9 ):\n",
    "        print(\"Peso adequado!\")\n",
    "    elif(IMC >= 25 and IMC <= 29.9 ):\n",
    "        print(\"Sobre Peso!\")\n",
    "    elif(IMC >= 30 and IMC <= 34.9):\n",
    "        print(\"Obesidade grau 1!\")\n",
    "    elif(IMC >= 35 and IMC <= 39.9 ):\n",
    "        print(\"Obesidade grau 2!\")\n",
    "    else:\n",
    "        print(\"Obesidade extrema!\")\n",
    "        \n",
    "    \n",
    "    print(\"\\nAté Logo!\")"
   ]
  },
  {
   "cell_type": "code",
   "execution_count": 23,
   "metadata": {},
   "outputs": [
    {
     "name": "stdout",
     "output_type": "stream",
     "text": [
      "O imc é 35.8564308508731 Kg/m²\n",
      "O imc é 35.8564308508731 Kg/m²\n",
      "O imc é 35.8564308508731 Kg/m²\n",
      "O imc é 35.8564308508731 Kg/m²\n",
      "\n",
      "Até Logo!\n"
     ]
    }
   ],
   "source": [
    "for i in range(4):\n",
    "    peso=float(input(\"\\nDigite o peso da pessoa, em Kg:\"))\n",
    "    altura=float(input(\"Digite a estatura da pessoa,em m:\"))\n",
    "    if(peso>0 and altura > 0.10 and altura < 2.5):\n",
    "        imc = peso/altura**2\n",
    "        print(\"O imc é\",imc,\"Kg/m²\")\n",
    "    else:\n",
    "        print(\"Verifique por favor, valor digitados errados!\")\n",
    "\n",
    "print(\"\\nAté Logo!\")\n"
   ]
  },
  {
   "cell_type": "code",
   "execution_count": 3,
   "metadata": {},
   "outputs": [
    {
     "name": "stdout",
     "output_type": "stream",
     "text": [
      "O imc é 28.685144680698485 Kg/m²\n",
      "O imc é 28.685144680698485 Kg/m²\n",
      "O imc é 28.685144680698485 Kg/m²\n",
      "O imc é 28.685144680698485 Kg/m²\n",
      "O imc é 28.685144680698485 Kg/m²\n",
      "\n",
      "Até Logo!\n"
     ]
    }
   ],
   "source": [
    "N = int(input(\"Quantas pessoas serão processsadas?\"))\n",
    "for i in range(N):\n",
    "    peso=float(input(\"\\nDigite o peso da pessoa, em Kg:\"))\n",
    "    altura=float(input(\"Digite a estatura da pessoa,em m:\"))\n",
    "    if(peso>0 and altura > 0.10 and altura < 2.5):\n",
    "        imc = peso/altura**2\n",
    "        print(\"O imc é\",imc,\"Kg/m²\")\n",
    "    if peso == 0 or altura == 0:\n",
    "        break #o usuário poderá interromper digitando algum zero\n",
    "\n",
    "print(\"\\nAté Logo!\")"
   ]
  },
  {
   "cell_type": "code",
   "execution_count": 11,
   "metadata": {},
   "outputs": [
    {
     "name": "stdout",
     "output_type": "stream",
     "text": [
      "Valor das parcelas:R$ 1750.0\n"
     ]
    }
   ],
   "source": [
    "def parcela(valor,qtde):\n",
    "    res = (valor + 0.05*valor)/qtde\n",
    "    return(res)\n",
    "valor= float(input(\"Digite o valor da compra R$:\"))\n",
    "qtdeparc = int(input(\"Digite a quantidade de parcelas:\"))\n",
    "print(\"Valor das parcelas:R$\",parcela(valor,qtdeparc))"
   ]
  }
 ],
 "metadata": {
  "kernelspec": {
   "display_name": "Python 3",
   "language": "python",
   "name": "python3"
  },
  "language_info": {
   "codemirror_mode": {
    "name": "ipython",
    "version": 3
   },
   "file_extension": ".py",
   "mimetype": "text/x-python",
   "name": "python",
   "nbconvert_exporter": "python",
   "pygments_lexer": "ipython3",
   "version": "3.12.5"
  },
  "orig_nbformat": 4
 },
 "nbformat": 4,
 "nbformat_minor": 2
}
